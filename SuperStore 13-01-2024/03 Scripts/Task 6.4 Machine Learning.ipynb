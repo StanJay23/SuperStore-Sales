{
 "cells": [
  {
   "cell_type": "markdown",
   "id": "ca181bd2",
   "metadata": {},
   "source": [
    "# 1.Importing Data and Libraries"
   ]
  },
  {
   "cell_type": "code",
   "execution_count": 1,
   "id": "17173f3b",
   "metadata": {},
   "outputs": [],
   "source": [
    "import pandas as pd\n",
    "import numpy as np\n",
    "import seaborn as sns\n",
    "import matplotlib\n",
    "import matplotlib.pyplot as plt\n",
    "import os\n",
    "import sklearn\n",
    "from sklearn.model_selection import train_test_split \n",
    "from sklearn.linear_model import LinearRegression\n",
    "from sklearn.metrics import mean_squared_error, r2_score"
   ]
  },
  {
   "cell_type": "code",
   "execution_count": 2,
   "id": "d27ad9dd",
   "metadata": {},
   "outputs": [],
   "source": [
    "# This option ensures that the graphs you create are displayed within the notebook without the need to \"call\" them specifically.\n",
    "\n",
    "%matplotlib inline"
   ]
  },
  {
   "cell_type": "code",
   "execution_count": 3,
   "id": "dbc38bb7",
   "metadata": {},
   "outputs": [],
   "source": [
    "#define path\n",
    "\n",
    "path = r'/Users/office/Documents/SuperStore Analysis 04-01-24'"
   ]
  },
  {
   "cell_type": "code",
   "execution_count": 4,
   "id": "1ddb696e",
   "metadata": {},
   "outputs": [],
   "source": [
    "#import data\n",
    "sales = pd.read_csv(os.path.join(path, '02 Data', 'Original Data', 'Superstore.csv'),encoding='windows-1252')"
   ]
  },
  {
   "cell_type": "markdown",
   "id": "b34e888f",
   "metadata": {},
   "source": [
    "# 2.Data Cleaning"
   ]
  },
  {
   "cell_type": "code",
   "execution_count": 5,
   "id": "20cba401",
   "metadata": {},
   "outputs": [
    {
     "data": {
      "text/plain": [
       "Index(['Row ID', 'Order ID', 'Order Date', 'Ship Date', 'Ship Mode',\n",
       "       'Customer ID', 'Customer Name', 'Segment', 'Country', 'City', 'State',\n",
       "       'Postal Code', 'Region', 'Product ID', 'Category', 'Sub-Category',\n",
       "       'Product Name', 'Sales', 'Quantity', 'Discount', 'Profit'],\n",
       "      dtype='object')"
      ]
     },
     "execution_count": 5,
     "metadata": {},
     "output_type": "execute_result"
    }
   ],
   "source": [
    "sales.columns"
   ]
  },
  {
   "cell_type": "code",
   "execution_count": 6,
   "id": "59dacf85",
   "metadata": {},
   "outputs": [
    {
     "data": {
      "text/html": [
       "<div>\n",
       "<style scoped>\n",
       "    .dataframe tbody tr th:only-of-type {\n",
       "        vertical-align: middle;\n",
       "    }\n",
       "\n",
       "    .dataframe tbody tr th {\n",
       "        vertical-align: top;\n",
       "    }\n",
       "\n",
       "    .dataframe thead th {\n",
       "        text-align: right;\n",
       "    }\n",
       "</style>\n",
       "<table border=\"1\" class=\"dataframe\">\n",
       "  <thead>\n",
       "    <tr style=\"text-align: right;\">\n",
       "      <th></th>\n",
       "      <th>Row ID</th>\n",
       "      <th>Order ID</th>\n",
       "      <th>Order Date</th>\n",
       "      <th>Ship Date</th>\n",
       "      <th>Ship Mode</th>\n",
       "      <th>Customer ID</th>\n",
       "      <th>Customer Name</th>\n",
       "      <th>Segment</th>\n",
       "      <th>Country</th>\n",
       "      <th>City</th>\n",
       "      <th>...</th>\n",
       "      <th>Postal Code</th>\n",
       "      <th>Region</th>\n",
       "      <th>Product ID</th>\n",
       "      <th>Category</th>\n",
       "      <th>Sub-Category</th>\n",
       "      <th>Product Name</th>\n",
       "      <th>Sales</th>\n",
       "      <th>Quantity</th>\n",
       "      <th>Discount</th>\n",
       "      <th>Profit</th>\n",
       "    </tr>\n",
       "  </thead>\n",
       "  <tbody>\n",
       "    <tr>\n",
       "      <th>0</th>\n",
       "      <td>1</td>\n",
       "      <td>CA-2016-152156</td>\n",
       "      <td>11/8/2016</td>\n",
       "      <td>11/11/2016</td>\n",
       "      <td>Second Class</td>\n",
       "      <td>CG-12520</td>\n",
       "      <td>Claire Gute</td>\n",
       "      <td>Consumer</td>\n",
       "      <td>United States</td>\n",
       "      <td>Henderson</td>\n",
       "      <td>...</td>\n",
       "      <td>42420</td>\n",
       "      <td>South</td>\n",
       "      <td>FUR-BO-10001798</td>\n",
       "      <td>Furniture</td>\n",
       "      <td>Bookcases</td>\n",
       "      <td>Bush Somerset Collection Bookcase</td>\n",
       "      <td>261.9600</td>\n",
       "      <td>2</td>\n",
       "      <td>0.00</td>\n",
       "      <td>41.9136</td>\n",
       "    </tr>\n",
       "    <tr>\n",
       "      <th>1</th>\n",
       "      <td>2</td>\n",
       "      <td>CA-2016-152156</td>\n",
       "      <td>11/8/2016</td>\n",
       "      <td>11/11/2016</td>\n",
       "      <td>Second Class</td>\n",
       "      <td>CG-12520</td>\n",
       "      <td>Claire Gute</td>\n",
       "      <td>Consumer</td>\n",
       "      <td>United States</td>\n",
       "      <td>Henderson</td>\n",
       "      <td>...</td>\n",
       "      <td>42420</td>\n",
       "      <td>South</td>\n",
       "      <td>FUR-CH-10000454</td>\n",
       "      <td>Furniture</td>\n",
       "      <td>Chairs</td>\n",
       "      <td>Hon Deluxe Fabric Upholstered Stacking Chairs,...</td>\n",
       "      <td>731.9400</td>\n",
       "      <td>3</td>\n",
       "      <td>0.00</td>\n",
       "      <td>219.5820</td>\n",
       "    </tr>\n",
       "    <tr>\n",
       "      <th>2</th>\n",
       "      <td>3</td>\n",
       "      <td>CA-2016-138688</td>\n",
       "      <td>6/12/2016</td>\n",
       "      <td>6/16/2016</td>\n",
       "      <td>Second Class</td>\n",
       "      <td>DV-13045</td>\n",
       "      <td>Darrin Van Huff</td>\n",
       "      <td>Corporate</td>\n",
       "      <td>United States</td>\n",
       "      <td>Los Angeles</td>\n",
       "      <td>...</td>\n",
       "      <td>90036</td>\n",
       "      <td>West</td>\n",
       "      <td>OFF-LA-10000240</td>\n",
       "      <td>Office Supplies</td>\n",
       "      <td>Labels</td>\n",
       "      <td>Self-Adhesive Address Labels for Typewriters b...</td>\n",
       "      <td>14.6200</td>\n",
       "      <td>2</td>\n",
       "      <td>0.00</td>\n",
       "      <td>6.8714</td>\n",
       "    </tr>\n",
       "    <tr>\n",
       "      <th>3</th>\n",
       "      <td>4</td>\n",
       "      <td>US-2015-108966</td>\n",
       "      <td>10/11/2015</td>\n",
       "      <td>10/18/2015</td>\n",
       "      <td>Standard Class</td>\n",
       "      <td>SO-20335</td>\n",
       "      <td>Sean O'Donnell</td>\n",
       "      <td>Consumer</td>\n",
       "      <td>United States</td>\n",
       "      <td>Fort Lauderdale</td>\n",
       "      <td>...</td>\n",
       "      <td>33311</td>\n",
       "      <td>South</td>\n",
       "      <td>FUR-TA-10000577</td>\n",
       "      <td>Furniture</td>\n",
       "      <td>Tables</td>\n",
       "      <td>Bretford CR4500 Series Slim Rectangular Table</td>\n",
       "      <td>957.5775</td>\n",
       "      <td>5</td>\n",
       "      <td>0.45</td>\n",
       "      <td>-383.0310</td>\n",
       "    </tr>\n",
       "    <tr>\n",
       "      <th>4</th>\n",
       "      <td>5</td>\n",
       "      <td>US-2015-108966</td>\n",
       "      <td>10/11/2015</td>\n",
       "      <td>10/18/2015</td>\n",
       "      <td>Standard Class</td>\n",
       "      <td>SO-20335</td>\n",
       "      <td>Sean O'Donnell</td>\n",
       "      <td>Consumer</td>\n",
       "      <td>United States</td>\n",
       "      <td>Fort Lauderdale</td>\n",
       "      <td>...</td>\n",
       "      <td>33311</td>\n",
       "      <td>South</td>\n",
       "      <td>OFF-ST-10000760</td>\n",
       "      <td>Office Supplies</td>\n",
       "      <td>Storage</td>\n",
       "      <td>Eldon Fold 'N Roll Cart System</td>\n",
       "      <td>22.3680</td>\n",
       "      <td>2</td>\n",
       "      <td>0.20</td>\n",
       "      <td>2.5164</td>\n",
       "    </tr>\n",
       "    <tr>\n",
       "      <th>5</th>\n",
       "      <td>6</td>\n",
       "      <td>CA-2014-115812</td>\n",
       "      <td>6/9/2014</td>\n",
       "      <td>6/14/2014</td>\n",
       "      <td>Standard Class</td>\n",
       "      <td>BH-11710</td>\n",
       "      <td>Brosina Hoffman</td>\n",
       "      <td>Consumer</td>\n",
       "      <td>United States</td>\n",
       "      <td>Los Angeles</td>\n",
       "      <td>...</td>\n",
       "      <td>90032</td>\n",
       "      <td>West</td>\n",
       "      <td>FUR-FU-10001487</td>\n",
       "      <td>Furniture</td>\n",
       "      <td>Furnishings</td>\n",
       "      <td>Eldon Expressions Wood and Plastic Desk Access...</td>\n",
       "      <td>48.8600</td>\n",
       "      <td>7</td>\n",
       "      <td>0.00</td>\n",
       "      <td>14.1694</td>\n",
       "    </tr>\n",
       "    <tr>\n",
       "      <th>6</th>\n",
       "      <td>7</td>\n",
       "      <td>CA-2014-115812</td>\n",
       "      <td>6/9/2014</td>\n",
       "      <td>6/14/2014</td>\n",
       "      <td>Standard Class</td>\n",
       "      <td>BH-11710</td>\n",
       "      <td>Brosina Hoffman</td>\n",
       "      <td>Consumer</td>\n",
       "      <td>United States</td>\n",
       "      <td>Los Angeles</td>\n",
       "      <td>...</td>\n",
       "      <td>90032</td>\n",
       "      <td>West</td>\n",
       "      <td>OFF-AR-10002833</td>\n",
       "      <td>Office Supplies</td>\n",
       "      <td>Art</td>\n",
       "      <td>Newell 322</td>\n",
       "      <td>7.2800</td>\n",
       "      <td>4</td>\n",
       "      <td>0.00</td>\n",
       "      <td>1.9656</td>\n",
       "    </tr>\n",
       "    <tr>\n",
       "      <th>7</th>\n",
       "      <td>8</td>\n",
       "      <td>CA-2014-115812</td>\n",
       "      <td>6/9/2014</td>\n",
       "      <td>6/14/2014</td>\n",
       "      <td>Standard Class</td>\n",
       "      <td>BH-11710</td>\n",
       "      <td>Brosina Hoffman</td>\n",
       "      <td>Consumer</td>\n",
       "      <td>United States</td>\n",
       "      <td>Los Angeles</td>\n",
       "      <td>...</td>\n",
       "      <td>90032</td>\n",
       "      <td>West</td>\n",
       "      <td>TEC-PH-10002275</td>\n",
       "      <td>Technology</td>\n",
       "      <td>Phones</td>\n",
       "      <td>Mitel 5320 IP Phone VoIP phone</td>\n",
       "      <td>907.1520</td>\n",
       "      <td>6</td>\n",
       "      <td>0.20</td>\n",
       "      <td>90.7152</td>\n",
       "    </tr>\n",
       "    <tr>\n",
       "      <th>8</th>\n",
       "      <td>9</td>\n",
       "      <td>CA-2014-115812</td>\n",
       "      <td>6/9/2014</td>\n",
       "      <td>6/14/2014</td>\n",
       "      <td>Standard Class</td>\n",
       "      <td>BH-11710</td>\n",
       "      <td>Brosina Hoffman</td>\n",
       "      <td>Consumer</td>\n",
       "      <td>United States</td>\n",
       "      <td>Los Angeles</td>\n",
       "      <td>...</td>\n",
       "      <td>90032</td>\n",
       "      <td>West</td>\n",
       "      <td>OFF-BI-10003910</td>\n",
       "      <td>Office Supplies</td>\n",
       "      <td>Binders</td>\n",
       "      <td>DXL Angle-View Binders with Locking Rings by S...</td>\n",
       "      <td>18.5040</td>\n",
       "      <td>3</td>\n",
       "      <td>0.20</td>\n",
       "      <td>5.7825</td>\n",
       "    </tr>\n",
       "    <tr>\n",
       "      <th>9</th>\n",
       "      <td>10</td>\n",
       "      <td>CA-2014-115812</td>\n",
       "      <td>6/9/2014</td>\n",
       "      <td>6/14/2014</td>\n",
       "      <td>Standard Class</td>\n",
       "      <td>BH-11710</td>\n",
       "      <td>Brosina Hoffman</td>\n",
       "      <td>Consumer</td>\n",
       "      <td>United States</td>\n",
       "      <td>Los Angeles</td>\n",
       "      <td>...</td>\n",
       "      <td>90032</td>\n",
       "      <td>West</td>\n",
       "      <td>OFF-AP-10002892</td>\n",
       "      <td>Office Supplies</td>\n",
       "      <td>Appliances</td>\n",
       "      <td>Belkin F5C206VTEL 6 Outlet Surge</td>\n",
       "      <td>114.9000</td>\n",
       "      <td>5</td>\n",
       "      <td>0.00</td>\n",
       "      <td>34.4700</td>\n",
       "    </tr>\n",
       "    <tr>\n",
       "      <th>10</th>\n",
       "      <td>11</td>\n",
       "      <td>CA-2014-115812</td>\n",
       "      <td>6/9/2014</td>\n",
       "      <td>6/14/2014</td>\n",
       "      <td>Standard Class</td>\n",
       "      <td>BH-11710</td>\n",
       "      <td>Brosina Hoffman</td>\n",
       "      <td>Consumer</td>\n",
       "      <td>United States</td>\n",
       "      <td>Los Angeles</td>\n",
       "      <td>...</td>\n",
       "      <td>90032</td>\n",
       "      <td>West</td>\n",
       "      <td>FUR-TA-10001539</td>\n",
       "      <td>Furniture</td>\n",
       "      <td>Tables</td>\n",
       "      <td>Chromcraft Rectangular Conference Tables</td>\n",
       "      <td>1706.1840</td>\n",
       "      <td>9</td>\n",
       "      <td>0.20</td>\n",
       "      <td>85.3092</td>\n",
       "    </tr>\n",
       "    <tr>\n",
       "      <th>11</th>\n",
       "      <td>12</td>\n",
       "      <td>CA-2014-115812</td>\n",
       "      <td>6/9/2014</td>\n",
       "      <td>6/14/2014</td>\n",
       "      <td>Standard Class</td>\n",
       "      <td>BH-11710</td>\n",
       "      <td>Brosina Hoffman</td>\n",
       "      <td>Consumer</td>\n",
       "      <td>United States</td>\n",
       "      <td>Los Angeles</td>\n",
       "      <td>...</td>\n",
       "      <td>90032</td>\n",
       "      <td>West</td>\n",
       "      <td>TEC-PH-10002033</td>\n",
       "      <td>Technology</td>\n",
       "      <td>Phones</td>\n",
       "      <td>Konftel 250 Conference phone - Charcoal black</td>\n",
       "      <td>911.4240</td>\n",
       "      <td>4</td>\n",
       "      <td>0.20</td>\n",
       "      <td>68.3568</td>\n",
       "    </tr>\n",
       "    <tr>\n",
       "      <th>12</th>\n",
       "      <td>13</td>\n",
       "      <td>CA-2017-114412</td>\n",
       "      <td>4/15/2017</td>\n",
       "      <td>4/20/2017</td>\n",
       "      <td>Standard Class</td>\n",
       "      <td>AA-10480</td>\n",
       "      <td>Andrew Allen</td>\n",
       "      <td>Consumer</td>\n",
       "      <td>United States</td>\n",
       "      <td>Concord</td>\n",
       "      <td>...</td>\n",
       "      <td>28027</td>\n",
       "      <td>South</td>\n",
       "      <td>OFF-PA-10002365</td>\n",
       "      <td>Office Supplies</td>\n",
       "      <td>Paper</td>\n",
       "      <td>Xerox 1967</td>\n",
       "      <td>15.5520</td>\n",
       "      <td>3</td>\n",
       "      <td>0.20</td>\n",
       "      <td>5.4432</td>\n",
       "    </tr>\n",
       "    <tr>\n",
       "      <th>13</th>\n",
       "      <td>14</td>\n",
       "      <td>CA-2016-161389</td>\n",
       "      <td>12/5/2016</td>\n",
       "      <td>12/10/2016</td>\n",
       "      <td>Standard Class</td>\n",
       "      <td>IM-15070</td>\n",
       "      <td>Irene Maddox</td>\n",
       "      <td>Consumer</td>\n",
       "      <td>United States</td>\n",
       "      <td>Seattle</td>\n",
       "      <td>...</td>\n",
       "      <td>98103</td>\n",
       "      <td>West</td>\n",
       "      <td>OFF-BI-10003656</td>\n",
       "      <td>Office Supplies</td>\n",
       "      <td>Binders</td>\n",
       "      <td>Fellowes PB200 Plastic Comb Binding Machine</td>\n",
       "      <td>407.9760</td>\n",
       "      <td>3</td>\n",
       "      <td>0.20</td>\n",
       "      <td>132.5922</td>\n",
       "    </tr>\n",
       "    <tr>\n",
       "      <th>14</th>\n",
       "      <td>15</td>\n",
       "      <td>US-2015-118983</td>\n",
       "      <td>11/22/2015</td>\n",
       "      <td>11/26/2015</td>\n",
       "      <td>Standard Class</td>\n",
       "      <td>HP-14815</td>\n",
       "      <td>Harold Pawlan</td>\n",
       "      <td>Home Office</td>\n",
       "      <td>United States</td>\n",
       "      <td>Fort Worth</td>\n",
       "      <td>...</td>\n",
       "      <td>76106</td>\n",
       "      <td>Central</td>\n",
       "      <td>OFF-AP-10002311</td>\n",
       "      <td>Office Supplies</td>\n",
       "      <td>Appliances</td>\n",
       "      <td>Holmes Replacement Filter for HEPA Air Cleaner...</td>\n",
       "      <td>68.8100</td>\n",
       "      <td>5</td>\n",
       "      <td>0.80</td>\n",
       "      <td>-123.8580</td>\n",
       "    </tr>\n",
       "    <tr>\n",
       "      <th>15</th>\n",
       "      <td>16</td>\n",
       "      <td>US-2015-118983</td>\n",
       "      <td>11/22/2015</td>\n",
       "      <td>11/26/2015</td>\n",
       "      <td>Standard Class</td>\n",
       "      <td>HP-14815</td>\n",
       "      <td>Harold Pawlan</td>\n",
       "      <td>Home Office</td>\n",
       "      <td>United States</td>\n",
       "      <td>Fort Worth</td>\n",
       "      <td>...</td>\n",
       "      <td>76106</td>\n",
       "      <td>Central</td>\n",
       "      <td>OFF-BI-10000756</td>\n",
       "      <td>Office Supplies</td>\n",
       "      <td>Binders</td>\n",
       "      <td>Storex DuraTech Recycled Plastic Frosted Binders</td>\n",
       "      <td>2.5440</td>\n",
       "      <td>3</td>\n",
       "      <td>0.80</td>\n",
       "      <td>-3.8160</td>\n",
       "    </tr>\n",
       "    <tr>\n",
       "      <th>16</th>\n",
       "      <td>17</td>\n",
       "      <td>CA-2014-105893</td>\n",
       "      <td>11/11/2014</td>\n",
       "      <td>11/18/2014</td>\n",
       "      <td>Standard Class</td>\n",
       "      <td>PK-19075</td>\n",
       "      <td>Pete Kriz</td>\n",
       "      <td>Consumer</td>\n",
       "      <td>United States</td>\n",
       "      <td>Madison</td>\n",
       "      <td>...</td>\n",
       "      <td>53711</td>\n",
       "      <td>Central</td>\n",
       "      <td>OFF-ST-10004186</td>\n",
       "      <td>Office Supplies</td>\n",
       "      <td>Storage</td>\n",
       "      <td>Stur-D-Stor Shelving, Vertical 5-Shelf: 72\"H x...</td>\n",
       "      <td>665.8800</td>\n",
       "      <td>6</td>\n",
       "      <td>0.00</td>\n",
       "      <td>13.3176</td>\n",
       "    </tr>\n",
       "    <tr>\n",
       "      <th>17</th>\n",
       "      <td>18</td>\n",
       "      <td>CA-2014-167164</td>\n",
       "      <td>5/13/2014</td>\n",
       "      <td>5/15/2014</td>\n",
       "      <td>Second Class</td>\n",
       "      <td>AG-10270</td>\n",
       "      <td>Alejandro Grove</td>\n",
       "      <td>Consumer</td>\n",
       "      <td>United States</td>\n",
       "      <td>West Jordan</td>\n",
       "      <td>...</td>\n",
       "      <td>84084</td>\n",
       "      <td>West</td>\n",
       "      <td>OFF-ST-10000107</td>\n",
       "      <td>Office Supplies</td>\n",
       "      <td>Storage</td>\n",
       "      <td>Fellowes Super Stor/Drawer</td>\n",
       "      <td>55.5000</td>\n",
       "      <td>2</td>\n",
       "      <td>0.00</td>\n",
       "      <td>9.9900</td>\n",
       "    </tr>\n",
       "    <tr>\n",
       "      <th>18</th>\n",
       "      <td>19</td>\n",
       "      <td>CA-2014-143336</td>\n",
       "      <td>8/27/2014</td>\n",
       "      <td>9/1/2014</td>\n",
       "      <td>Second Class</td>\n",
       "      <td>ZD-21925</td>\n",
       "      <td>Zuschuss Donatelli</td>\n",
       "      <td>Consumer</td>\n",
       "      <td>United States</td>\n",
       "      <td>San Francisco</td>\n",
       "      <td>...</td>\n",
       "      <td>94109</td>\n",
       "      <td>West</td>\n",
       "      <td>OFF-AR-10003056</td>\n",
       "      <td>Office Supplies</td>\n",
       "      <td>Art</td>\n",
       "      <td>Newell 341</td>\n",
       "      <td>8.5600</td>\n",
       "      <td>2</td>\n",
       "      <td>0.00</td>\n",
       "      <td>2.4824</td>\n",
       "    </tr>\n",
       "    <tr>\n",
       "      <th>19</th>\n",
       "      <td>20</td>\n",
       "      <td>CA-2014-143336</td>\n",
       "      <td>8/27/2014</td>\n",
       "      <td>9/1/2014</td>\n",
       "      <td>Second Class</td>\n",
       "      <td>ZD-21925</td>\n",
       "      <td>Zuschuss Donatelli</td>\n",
       "      <td>Consumer</td>\n",
       "      <td>United States</td>\n",
       "      <td>San Francisco</td>\n",
       "      <td>...</td>\n",
       "      <td>94109</td>\n",
       "      <td>West</td>\n",
       "      <td>TEC-PH-10001949</td>\n",
       "      <td>Technology</td>\n",
       "      <td>Phones</td>\n",
       "      <td>Cisco SPA 501G IP Phone</td>\n",
       "      <td>213.4800</td>\n",
       "      <td>3</td>\n",
       "      <td>0.20</td>\n",
       "      <td>16.0110</td>\n",
       "    </tr>\n",
       "  </tbody>\n",
       "</table>\n",
       "<p>20 rows × 21 columns</p>\n",
       "</div>"
      ],
      "text/plain": [
       "    Row ID        Order ID  Order Date   Ship Date       Ship Mode  \\\n",
       "0        1  CA-2016-152156   11/8/2016  11/11/2016    Second Class   \n",
       "1        2  CA-2016-152156   11/8/2016  11/11/2016    Second Class   \n",
       "2        3  CA-2016-138688   6/12/2016   6/16/2016    Second Class   \n",
       "3        4  US-2015-108966  10/11/2015  10/18/2015  Standard Class   \n",
       "4        5  US-2015-108966  10/11/2015  10/18/2015  Standard Class   \n",
       "5        6  CA-2014-115812    6/9/2014   6/14/2014  Standard Class   \n",
       "6        7  CA-2014-115812    6/9/2014   6/14/2014  Standard Class   \n",
       "7        8  CA-2014-115812    6/9/2014   6/14/2014  Standard Class   \n",
       "8        9  CA-2014-115812    6/9/2014   6/14/2014  Standard Class   \n",
       "9       10  CA-2014-115812    6/9/2014   6/14/2014  Standard Class   \n",
       "10      11  CA-2014-115812    6/9/2014   6/14/2014  Standard Class   \n",
       "11      12  CA-2014-115812    6/9/2014   6/14/2014  Standard Class   \n",
       "12      13  CA-2017-114412   4/15/2017   4/20/2017  Standard Class   \n",
       "13      14  CA-2016-161389   12/5/2016  12/10/2016  Standard Class   \n",
       "14      15  US-2015-118983  11/22/2015  11/26/2015  Standard Class   \n",
       "15      16  US-2015-118983  11/22/2015  11/26/2015  Standard Class   \n",
       "16      17  CA-2014-105893  11/11/2014  11/18/2014  Standard Class   \n",
       "17      18  CA-2014-167164   5/13/2014   5/15/2014    Second Class   \n",
       "18      19  CA-2014-143336   8/27/2014    9/1/2014    Second Class   \n",
       "19      20  CA-2014-143336   8/27/2014    9/1/2014    Second Class   \n",
       "\n",
       "   Customer ID       Customer Name      Segment        Country  \\\n",
       "0     CG-12520         Claire Gute     Consumer  United States   \n",
       "1     CG-12520         Claire Gute     Consumer  United States   \n",
       "2     DV-13045     Darrin Van Huff    Corporate  United States   \n",
       "3     SO-20335      Sean O'Donnell     Consumer  United States   \n",
       "4     SO-20335      Sean O'Donnell     Consumer  United States   \n",
       "5     BH-11710     Brosina Hoffman     Consumer  United States   \n",
       "6     BH-11710     Brosina Hoffman     Consumer  United States   \n",
       "7     BH-11710     Brosina Hoffman     Consumer  United States   \n",
       "8     BH-11710     Brosina Hoffman     Consumer  United States   \n",
       "9     BH-11710     Brosina Hoffman     Consumer  United States   \n",
       "10    BH-11710     Brosina Hoffman     Consumer  United States   \n",
       "11    BH-11710     Brosina Hoffman     Consumer  United States   \n",
       "12    AA-10480        Andrew Allen     Consumer  United States   \n",
       "13    IM-15070        Irene Maddox     Consumer  United States   \n",
       "14    HP-14815       Harold Pawlan  Home Office  United States   \n",
       "15    HP-14815       Harold Pawlan  Home Office  United States   \n",
       "16    PK-19075           Pete Kriz     Consumer  United States   \n",
       "17    AG-10270     Alejandro Grove     Consumer  United States   \n",
       "18    ZD-21925  Zuschuss Donatelli     Consumer  United States   \n",
       "19    ZD-21925  Zuschuss Donatelli     Consumer  United States   \n",
       "\n",
       "               City  ... Postal Code   Region       Product ID  \\\n",
       "0         Henderson  ...       42420    South  FUR-BO-10001798   \n",
       "1         Henderson  ...       42420    South  FUR-CH-10000454   \n",
       "2       Los Angeles  ...       90036     West  OFF-LA-10000240   \n",
       "3   Fort Lauderdale  ...       33311    South  FUR-TA-10000577   \n",
       "4   Fort Lauderdale  ...       33311    South  OFF-ST-10000760   \n",
       "5       Los Angeles  ...       90032     West  FUR-FU-10001487   \n",
       "6       Los Angeles  ...       90032     West  OFF-AR-10002833   \n",
       "7       Los Angeles  ...       90032     West  TEC-PH-10002275   \n",
       "8       Los Angeles  ...       90032     West  OFF-BI-10003910   \n",
       "9       Los Angeles  ...       90032     West  OFF-AP-10002892   \n",
       "10      Los Angeles  ...       90032     West  FUR-TA-10001539   \n",
       "11      Los Angeles  ...       90032     West  TEC-PH-10002033   \n",
       "12          Concord  ...       28027    South  OFF-PA-10002365   \n",
       "13          Seattle  ...       98103     West  OFF-BI-10003656   \n",
       "14       Fort Worth  ...       76106  Central  OFF-AP-10002311   \n",
       "15       Fort Worth  ...       76106  Central  OFF-BI-10000756   \n",
       "16          Madison  ...       53711  Central  OFF-ST-10004186   \n",
       "17      West Jordan  ...       84084     West  OFF-ST-10000107   \n",
       "18    San Francisco  ...       94109     West  OFF-AR-10003056   \n",
       "19    San Francisco  ...       94109     West  TEC-PH-10001949   \n",
       "\n",
       "           Category Sub-Category  \\\n",
       "0         Furniture    Bookcases   \n",
       "1         Furniture       Chairs   \n",
       "2   Office Supplies       Labels   \n",
       "3         Furniture       Tables   \n",
       "4   Office Supplies      Storage   \n",
       "5         Furniture  Furnishings   \n",
       "6   Office Supplies          Art   \n",
       "7        Technology       Phones   \n",
       "8   Office Supplies      Binders   \n",
       "9   Office Supplies   Appliances   \n",
       "10        Furniture       Tables   \n",
       "11       Technology       Phones   \n",
       "12  Office Supplies        Paper   \n",
       "13  Office Supplies      Binders   \n",
       "14  Office Supplies   Appliances   \n",
       "15  Office Supplies      Binders   \n",
       "16  Office Supplies      Storage   \n",
       "17  Office Supplies      Storage   \n",
       "18  Office Supplies          Art   \n",
       "19       Technology       Phones   \n",
       "\n",
       "                                         Product Name      Sales  Quantity  \\\n",
       "0                   Bush Somerset Collection Bookcase   261.9600         2   \n",
       "1   Hon Deluxe Fabric Upholstered Stacking Chairs,...   731.9400         3   \n",
       "2   Self-Adhesive Address Labels for Typewriters b...    14.6200         2   \n",
       "3       Bretford CR4500 Series Slim Rectangular Table   957.5775         5   \n",
       "4                      Eldon Fold 'N Roll Cart System    22.3680         2   \n",
       "5   Eldon Expressions Wood and Plastic Desk Access...    48.8600         7   \n",
       "6                                          Newell 322     7.2800         4   \n",
       "7                      Mitel 5320 IP Phone VoIP phone   907.1520         6   \n",
       "8   DXL Angle-View Binders with Locking Rings by S...    18.5040         3   \n",
       "9                    Belkin F5C206VTEL 6 Outlet Surge   114.9000         5   \n",
       "10           Chromcraft Rectangular Conference Tables  1706.1840         9   \n",
       "11      Konftel 250 Conference phone - Charcoal black   911.4240         4   \n",
       "12                                         Xerox 1967    15.5520         3   \n",
       "13        Fellowes PB200 Plastic Comb Binding Machine   407.9760         3   \n",
       "14  Holmes Replacement Filter for HEPA Air Cleaner...    68.8100         5   \n",
       "15   Storex DuraTech Recycled Plastic Frosted Binders     2.5440         3   \n",
       "16  Stur-D-Stor Shelving, Vertical 5-Shelf: 72\"H x...   665.8800         6   \n",
       "17                         Fellowes Super Stor/Drawer    55.5000         2   \n",
       "18                                         Newell 341     8.5600         2   \n",
       "19                            Cisco SPA 501G IP Phone   213.4800         3   \n",
       "\n",
       "    Discount    Profit  \n",
       "0       0.00   41.9136  \n",
       "1       0.00  219.5820  \n",
       "2       0.00    6.8714  \n",
       "3       0.45 -383.0310  \n",
       "4       0.20    2.5164  \n",
       "5       0.00   14.1694  \n",
       "6       0.00    1.9656  \n",
       "7       0.20   90.7152  \n",
       "8       0.20    5.7825  \n",
       "9       0.00   34.4700  \n",
       "10      0.20   85.3092  \n",
       "11      0.20   68.3568  \n",
       "12      0.20    5.4432  \n",
       "13      0.20  132.5922  \n",
       "14      0.80 -123.8580  \n",
       "15      0.80   -3.8160  \n",
       "16      0.00   13.3176  \n",
       "17      0.00    9.9900  \n",
       "18      0.00    2.4824  \n",
       "19      0.20   16.0110  \n",
       "\n",
       "[20 rows x 21 columns]"
      ]
     },
     "execution_count": 6,
     "metadata": {},
     "output_type": "execute_result"
    }
   ],
   "source": [
    "sales.head(20)"
   ]
  },
  {
   "cell_type": "code",
   "execution_count": 7,
   "id": "1bace6d2",
   "metadata": {},
   "outputs": [
    {
     "data": {
      "text/plain": [
       "(9994, 21)"
      ]
     },
     "execution_count": 7,
     "metadata": {},
     "output_type": "execute_result"
    }
   ],
   "source": [
    "sales.shape"
   ]
  },
  {
   "cell_type": "markdown",
   "id": "5ee823f0",
   "metadata": {},
   "source": [
    "# Missing Values"
   ]
  },
  {
   "cell_type": "code",
   "execution_count": 8,
   "id": "bba650b6",
   "metadata": {},
   "outputs": [
    {
     "data": {
      "text/plain": [
       "Row ID           0\n",
       "Order ID         0\n",
       "Order Date       0\n",
       "Ship Date        0\n",
       "Ship Mode        0\n",
       "Customer ID      0\n",
       "Customer Name    0\n",
       "Segment          0\n",
       "Country          0\n",
       "City             0\n",
       "State            0\n",
       "Postal Code      0\n",
       "Region           0\n",
       "Product ID       0\n",
       "Category         0\n",
       "Sub-Category     0\n",
       "Product Name     0\n",
       "Sales            0\n",
       "Quantity         0\n",
       "Discount         0\n",
       "Profit           0\n",
       "dtype: int64"
      ]
     },
     "execution_count": 8,
     "metadata": {},
     "output_type": "execute_result"
    }
   ],
   "source": [
    "#check for missing values\n",
    "\n",
    "sales.isnull().sum()"
   ]
  },
  {
   "cell_type": "markdown",
   "id": "2ec48293",
   "metadata": {},
   "source": [
    "# Duplicates"
   ]
  },
  {
   "cell_type": "code",
   "execution_count": 9,
   "id": "6fc2bdd4",
   "metadata": {},
   "outputs": [],
   "source": [
    "dups = sales.duplicated()"
   ]
  },
  {
   "cell_type": "code",
   "execution_count": 10,
   "id": "29909fe5",
   "metadata": {},
   "outputs": [
    {
     "data": {
      "text/plain": [
       "(9994,)"
      ]
     },
     "execution_count": 10,
     "metadata": {},
     "output_type": "execute_result"
    }
   ],
   "source": [
    "dups.shape"
   ]
  },
  {
   "cell_type": "markdown",
   "id": "080a0ab0",
   "metadata": {},
   "source": [
    "# Extreme Values"
   ]
  },
  {
   "cell_type": "code",
   "execution_count": 13,
   "id": "031edb7f",
   "metadata": {},
   "outputs": [
    {
     "name": "stderr",
     "output_type": "stream",
     "text": [
      "/var/folders/mq/x9y4g6m5733blrm3drj7plxh0000gn/T/ipykernel_45697/1634268489.py:3: UserWarning: \n",
      "\n",
      "`distplot` is a deprecated function and will be removed in seaborn v0.14.0.\n",
      "\n",
      "Please adapt your code to use either `displot` (a figure-level function with\n",
      "similar flexibility) or `histplot` (an axes-level function for histograms).\n",
      "\n",
      "For a guide to updating your code to use the new functions, please see\n",
      "https://gist.github.com/mwaskom/de44147ed2974457ad6372750bbe5751\n",
      "\n",
      "  sns.distplot(sales['Sales'], bins=25) # Shows extreme values\n"
     ]
    },
    {
     "data": {
      "text/plain": [
       "<Axes: xlabel='Sales', ylabel='Density'>"
      ]
     },
     "execution_count": 13,
     "metadata": {},
     "output_type": "execute_result"
    },
    {
     "data": {
      "image/png": "[encoded data removed]",
      "text/plain": [
       "<Figure size 640x480 with 1 Axes>"
      ]
     },
     "metadata": {},
     "output_type": "display_data"
    }
   ],
   "source": [
    "#check for extreme values\n",
    "\n",
    "sns.distplot(sales['Sales'], bins=25) # Shows extreme values\n"
   ]
  },
  {
   "cell_type": "code",
   "execution_count": 14,
   "id": "ab54a690",
   "metadata": {},
   "outputs": [
    {
     "data": {
      "text/plain": [
       "229.85800083049833"
      ]
     },
     "execution_count": 14,
     "metadata": {},
     "output_type": "execute_result"
    }
   ],
   "source": [
    "sales['Sales'].mean() # Check the mean"
   ]
  },
  {
   "cell_type": "code",
   "execution_count": 15,
   "id": "3ab56923",
   "metadata": {},
   "outputs": [
    {
     "data": {
      "text/plain": [
       "54.489999999999995"
      ]
     },
     "execution_count": 15,
     "metadata": {},
     "output_type": "execute_result"
    }
   ],
   "source": [
    "sales['Sales'].median() # Check the median"
   ]
  },
  {
   "cell_type": "code",
   "execution_count": 16,
   "id": "1df5722b",
   "metadata": {},
   "outputs": [
    {
     "data": {
      "text/plain": [
       "22638.48"
      ]
     },
     "execution_count": 16,
     "metadata": {},
     "output_type": "execute_result"
    }
   ],
   "source": [
    "sales['Sales'].max() # Check the max"
   ]
  },
  {
   "cell_type": "markdown",
   "id": "5ceee9d3",
   "metadata": {},
   "source": [
    "# 3. Data prep for Regression Analysis"
   ]
  },
  {
   "cell_type": "code",
   "execution_count": 18,
   "id": "393c3973",
   "metadata": {},
   "outputs": [
    {
     "data": {
      "image/png": "[encoded data removed]",
      "text/plain": [
       "<Figure size 640x480 with 1 Axes>"
      ]
     },
     "metadata": {},
     "output_type": "display_data"
    }
   ],
   "source": [
    "# Create a scatterplot using matplotlib for another look at how the chosen variables plot against each other.\n",
    "\n",
    "sales.plot(x = 'Discount', y='Sales',style='o') # The style option creates a scatterplot; without it, we only have lines.\n",
    "plt.title('Discount vs Sales')  \n",
    "plt.xlabel('Discount')  \n",
    "plt.ylabel('Sales')  \n",
    "plt.show()"
   ]
  },
  {
   "cell_type": "markdown",
   "id": "7987ad18",
   "metadata": {},
   "source": [
    "# Hypothesis\n",
    "\n",
    "The more discount means the higher the sales"
   ]
  },
  {
   "cell_type": "code",
   "execution_count": 20,
   "id": "094559e2",
   "metadata": {},
   "outputs": [],
   "source": [
    "# Reshape the variables into NumPy arrays and put them into separate objects.\n",
    "\n",
    "X = sales['Discount'].values.reshape(-1,1)\n",
    "\n",
    "y = sales['Sales'].values.reshape(-1,1)"
   ]
  },
  {
   "cell_type": "code",
   "execution_count": 21,
   "id": "4f7fcaf8",
   "metadata": {},
   "outputs": [
    {
     "data": {
      "text/plain": [
       "array([[0. ],\n",
       "       [0. ],\n",
       "       [0. ],\n",
       "       ...,\n",
       "       [0.2],\n",
       "       [0. ],\n",
       "       [0. ]])"
      ]
     },
     "execution_count": 21,
     "metadata": {},
     "output_type": "execute_result"
    }
   ],
   "source": [
    "X"
   ]
  },
  {
   "cell_type": "code",
   "execution_count": 22,
   "id": "d9ea24b0",
   "metadata": {},
   "outputs": [
    {
     "data": {
      "text/plain": [
       "array([[261.96 ],\n",
       "       [731.94 ],\n",
       "       [ 14.62 ],\n",
       "       ...,\n",
       "       [258.576],\n",
       "       [ 29.6  ],\n",
       "       [243.16 ]])"
      ]
     },
     "execution_count": 22,
     "metadata": {},
     "output_type": "execute_result"
    }
   ],
   "source": [
    "y"
   ]
  },
  {
   "cell_type": "code",
   "execution_count": 23,
   "id": "7885450d",
   "metadata": {},
   "outputs": [],
   "source": [
    "# Split data into a training set and a test set.\n",
    "\n",
    "X_train, X_test, y_train, y_test = train_test_split(X, y, test_size=0.3, random_state=0)"
   ]
  },
  {
   "cell_type": "markdown",
   "id": "11e1e010",
   "metadata": {},
   "source": [
    "# 4. Regression Analysis"
   ]
  },
  {
   "cell_type": "code",
   "execution_count": 24,
   "id": "1ad7e597",
   "metadata": {},
   "outputs": [],
   "source": [
    "# Create a regression object.\n",
    "\n",
    "regression = LinearRegression()  # This is the regression object, which will be fit onto the training set."
   ]
  },
  {
   "cell_type": "code",
   "execution_count": 25,
   "id": "d05988c6",
   "metadata": {},
   "outputs": [
    {
     "data": {
      "text/html": [
       "<style>#sk-container-id-1 {color: black;}#sk-container-id-1 pre{padding: 0;}#sk-container-id-1 div.sk-toggleable {background-color: white;}#sk-container-id-1 label.sk-toggleable__label {cursor: pointer;display: block;width: 100%;margin-bottom: 0;padding: 0.3em;box-sizing: border-box;text-align: center;}#sk-container-id-1 label.sk-toggleable__label-arrow:before {content: \"▸\";float: left;margin-right: 0.25em;color: #696969;}#sk-container-id-1 label.sk-toggleable__label-arrow:hover:before {color: black;}#sk-container-id-1 div.sk-estimator:hover label.sk-toggleable__label-arrow:before {color: black;}#sk-container-id-1 div.sk-toggleable__content {max-height: 0;max-width: 0;overflow: hidden;text-align: left;background-color: #f0f8ff;}#sk-container-id-1 div.sk-toggleable__content pre {margin: 0.2em;color: black;border-radius: 0.25em;background-color: #f0f8ff;}#sk-container-id-1 input.sk-toggleable__control:checked~div.sk-toggleable__content {max-height: 200px;max-width: 100%;overflow: auto;}#sk-container-id-1 input.sk-toggleable__control:checked~label.sk-toggleable__label-arrow:before {content: \"▾\";}#sk-container-id-1 div.sk-estimator input.sk-toggleable__control:checked~label.sk-toggleable__label {background-color: #d4ebff;}#sk-container-id-1 div.sk-label input.sk-toggleable__control:checked~label.sk-toggleable__label {background-color: #d4ebff;}#sk-container-id-1 input.sk-hidden--visually {border: 0;clip: rect(1px 1px 1px 1px);clip: rect(1px, 1px, 1px, 1px);height: 1px;margin: -1px;overflow: hidden;padding: 0;position: absolute;width: 1px;}#sk-container-id-1 div.sk-estimator {font-family: monospace;background-color: #f0f8ff;border: 1px dotted black;border-radius: 0.25em;box-sizing: border-box;margin-bottom: 0.5em;}#sk-container-id-1 div.sk-estimator:hover {background-color: #d4ebff;}#sk-container-id-1 div.sk-parallel-item::after {content: \"\";width: 100%;border-bottom: 1px solid gray;flex-grow: 1;}#sk-container-id-1 div.sk-label:hover label.sk-toggleable__label {background-color: #d4ebff;}#sk-container-id-1 div.sk-serial::before {content: \"\";position: absolute;border-left: 1px solid gray;box-sizing: border-box;top: 0;bottom: 0;left: 50%;z-index: 0;}#sk-container-id-1 div.sk-serial {display: flex;flex-direction: column;align-items: center;background-color: white;padding-right: 0.2em;padding-left: 0.2em;position: relative;}#sk-container-id-1 div.sk-item {position: relative;z-index: 1;}#sk-container-id-1 div.sk-parallel {display: flex;align-items: stretch;justify-content: center;background-color: white;position: relative;}#sk-container-id-1 div.sk-item::before, #sk-container-id-1 div.sk-parallel-item::before {content: \"\";position: absolute;border-left: 1px solid gray;box-sizing: border-box;top: 0;bottom: 0;left: 50%;z-index: -1;}#sk-container-id-1 div.sk-parallel-item {display: flex;flex-direction: column;z-index: 1;position: relative;background-color: white;}#sk-container-id-1 div.sk-parallel-item:first-child::after {align-self: flex-end;width: 50%;}#sk-container-id-1 div.sk-parallel-item:last-child::after {align-self: flex-start;width: 50%;}#sk-container-id-1 div.sk-parallel-item:only-child::after {width: 0;}#sk-container-id-1 div.sk-dashed-wrapped {border: 1px dashed gray;margin: 0 0.4em 0.5em 0.4em;box-sizing: border-box;padding-bottom: 0.4em;background-color: white;}#sk-container-id-1 div.sk-label label {font-family: monospace;font-weight: bold;display: inline-block;line-height: 1.2em;}#sk-container-id-1 div.sk-label-container {text-align: center;}#sk-container-id-1 div.sk-container {/* jupyter's `normalize.less` sets `[hidden] { display: none; }` but bootstrap.min.css set `[hidden] { display: none !important; }` so we also need the `!important` here to be able to override the default hidden behavior on the sphinx rendered scikit-learn.org. See: https://github.com/scikit-learn/scikit-learn/issues/21755 */display: inline-block !important;position: relative;}#sk-container-id-1 div.sk-text-repr-fallback {display: none;}</style><div id=\"sk-container-id-1\" class=\"sk-top-container\"><div class=\"sk-text-repr-fallback\"><pre>LinearRegression()</pre><b>In a Jupyter environment, please rerun this cell to show the HTML representation or trust the notebook. <br />On GitHub, the HTML representation is unable to render, please try loading this page with nbviewer.org.</b></div><div class=\"sk-container\" hidden><div class=\"sk-item\"><div class=\"sk-estimator sk-toggleable\"><input class=\"sk-toggleable__control sk-hidden--visually\" id=\"sk-estimator-id-1\" type=\"checkbox\" checked><label for=\"sk-estimator-id-1\" class=\"sk-toggleable__label sk-toggleable__label-arrow\">LinearRegression</label><div class=\"sk-toggleable__content\"><pre>LinearRegression()</pre></div></div></div></div></div>"
      ],
      "text/plain": [
       "LinearRegression()"
      ]
     },
     "execution_count": 25,
     "metadata": {},
     "output_type": "execute_result"
    }
   ],
   "source": [
    "# Fit the regression object onto the training set.\n",
    "\n",
    "regression.fit(X_train, y_train)"
   ]
  },
  {
   "cell_type": "code",
   "execution_count": 26,
   "id": "fc48e7ee",
   "metadata": {},
   "outputs": [],
   "source": [
    "# Predict the values of y using X.\n",
    "\n",
    "y_predicted = regression.predict(X_test)"
   ]
  },
  {
   "cell_type": "code",
   "execution_count": 27,
   "id": "8efd1c2f",
   "metadata": {},
   "outputs": [
    {
     "data": {
      "image/png": "[encoded data removed]",
      "text/plain": [
       "<Figure size 640x480 with 1 Axes>"
      ]
     },
     "metadata": {},
     "output_type": "display_data"
    }
   ],
   "source": [
    "# Create a plot that shows the regression line from the model on the test set.\n",
    "\n",
    "plot_test = plt\n",
    "plot_test.scatter(X_test, y_test, color='gray', s = 15)\n",
    "plot_test.plot(X_test, y_predicted, color='red', linewidth =3)\n",
    "plot_test.title('Discount vs Sales (Test set)')\n",
    "plot_test.xlabel('Discount')\n",
    "plot_test.ylabel('Sales')\n",
    "plot_test.show()"
   ]
  },
  {
   "cell_type": "code",
   "execution_count": 28,
   "id": "f755f73c",
   "metadata": {},
   "outputs": [],
   "source": [
    "# Create objects that contain the model summary statistics.\n",
    "\n",
    "rmse = mean_squared_error(y_test, y_predicted) # This is the mean squared error\n",
    "r2 = r2_score(y_test, y_predicted) # This is the R2 score. "
   ]
  },
  {
   "cell_type": "code",
   "execution_count": 29,
   "id": "195b0daf",
   "metadata": {},
   "outputs": [
    {
     "name": "stdout",
     "output_type": "stream",
     "text": [
      "Slope: [[-56.29364623]]\n",
      "Mean squared error:  422691.7311885792\n",
      "R2 score:  0.0009005788018271454\n"
     ]
    }
   ],
   "source": [
    "# Print the model summary statistics. This is where you evaluate the performance of the model.\n",
    "\n",
    "print('Slope:' ,regression.coef_)\n",
    "print('Mean squared error: ', rmse)\n",
    "print('R2 score: ', r2)"
   ]
  },
  {
   "cell_type": "markdown",
   "id": "80d5d3a9",
   "metadata": {},
   "source": [
    "# Analysis\n",
    "\n",
    "there is a negative slope which indicates a negative relationship between the two variables tested. the increase in discount causes decrease in sales.\n",
    "\n",
    "The MSE is large which means the regression may not be the best model to represent data and predict the influence of discount on sales.\n",
    "\n",
    "The R2 is 0 which means the model is not fit"
   ]
  },
  {
   "cell_type": "code",
   "execution_count": 30,
   "id": "187f111f",
   "metadata": {},
   "outputs": [
    {
     "data": {
      "text/plain": [
       "array([[234.23958624],\n",
       "       [234.23958624],\n",
       "       [222.980857  ],\n",
       "       ...,\n",
       "       [234.23958624],\n",
       "       [234.23958624],\n",
       "       [222.980857  ]])"
      ]
     },
     "execution_count": 30,
     "metadata": {},
     "output_type": "execute_result"
    }
   ],
   "source": [
    "y_predicted"
   ]
  },
  {
   "cell_type": "code",
   "execution_count": 31,
   "id": "ebcc95ba",
   "metadata": {},
   "outputs": [
    {
     "data": {
      "text/html": [
       "<div>\n",
       "<style scoped>\n",
       "    .dataframe tbody tr th:only-of-type {\n",
       "        vertical-align: middle;\n",
       "    }\n",
       "\n",
       "    .dataframe tbody tr th {\n",
       "        vertical-align: top;\n",
       "    }\n",
       "\n",
       "    .dataframe thead th {\n",
       "        text-align: right;\n",
       "    }\n",
       "</style>\n",
       "<table border=\"1\" class=\"dataframe\">\n",
       "  <thead>\n",
       "    <tr style=\"text-align: right;\">\n",
       "      <th></th>\n",
       "      <th>Actual</th>\n",
       "      <th>Predicted</th>\n",
       "    </tr>\n",
       "  </thead>\n",
       "  <tbody>\n",
       "    <tr>\n",
       "      <th>0</th>\n",
       "      <td>23.3600</td>\n",
       "      <td>234.239586</td>\n",
       "    </tr>\n",
       "    <tr>\n",
       "      <th>1</th>\n",
       "      <td>22.6600</td>\n",
       "      <td>234.239586</td>\n",
       "    </tr>\n",
       "    <tr>\n",
       "      <th>2</th>\n",
       "      <td>35.2080</td>\n",
       "      <td>222.980857</td>\n",
       "    </tr>\n",
       "    <tr>\n",
       "      <th>3</th>\n",
       "      <td>283.9200</td>\n",
       "      <td>222.980857</td>\n",
       "    </tr>\n",
       "    <tr>\n",
       "      <th>4</th>\n",
       "      <td>19.8240</td>\n",
       "      <td>222.980857</td>\n",
       "    </tr>\n",
       "    <tr>\n",
       "      <th>5</th>\n",
       "      <td>39.9200</td>\n",
       "      <td>222.980857</td>\n",
       "    </tr>\n",
       "    <tr>\n",
       "      <th>6</th>\n",
       "      <td>68.4800</td>\n",
       "      <td>222.980857</td>\n",
       "    </tr>\n",
       "    <tr>\n",
       "      <th>7</th>\n",
       "      <td>1591.0200</td>\n",
       "      <td>234.239586</td>\n",
       "    </tr>\n",
       "    <tr>\n",
       "      <th>8</th>\n",
       "      <td>156.3728</td>\n",
       "      <td>216.225619</td>\n",
       "    </tr>\n",
       "    <tr>\n",
       "      <th>9</th>\n",
       "      <td>3499.9300</td>\n",
       "      <td>234.239586</td>\n",
       "    </tr>\n",
       "    <tr>\n",
       "      <th>10</th>\n",
       "      <td>4899.9300</td>\n",
       "      <td>234.239586</td>\n",
       "    </tr>\n",
       "    <tr>\n",
       "      <th>11</th>\n",
       "      <td>242.4800</td>\n",
       "      <td>234.239586</td>\n",
       "    </tr>\n",
       "    <tr>\n",
       "      <th>12</th>\n",
       "      <td>79.9600</td>\n",
       "      <td>234.239586</td>\n",
       "    </tr>\n",
       "    <tr>\n",
       "      <th>13</th>\n",
       "      <td>50.9970</td>\n",
       "      <td>194.834034</td>\n",
       "    </tr>\n",
       "    <tr>\n",
       "      <th>14</th>\n",
       "      <td>107.5300</td>\n",
       "      <td>234.239586</td>\n",
       "    </tr>\n",
       "    <tr>\n",
       "      <th>15</th>\n",
       "      <td>22.6080</td>\n",
       "      <td>200.463399</td>\n",
       "    </tr>\n",
       "    <tr>\n",
       "      <th>16</th>\n",
       "      <td>120.1500</td>\n",
       "      <td>234.239586</td>\n",
       "    </tr>\n",
       "    <tr>\n",
       "      <th>17</th>\n",
       "      <td>121.6800</td>\n",
       "      <td>222.980857</td>\n",
       "    </tr>\n",
       "    <tr>\n",
       "      <th>18</th>\n",
       "      <td>93.0200</td>\n",
       "      <td>234.239586</td>\n",
       "    </tr>\n",
       "    <tr>\n",
       "      <th>19</th>\n",
       "      <td>55.3280</td>\n",
       "      <td>222.980857</td>\n",
       "    </tr>\n",
       "    <tr>\n",
       "      <th>20</th>\n",
       "      <td>333.0560</td>\n",
       "      <td>222.980857</td>\n",
       "    </tr>\n",
       "    <tr>\n",
       "      <th>21</th>\n",
       "      <td>4.9800</td>\n",
       "      <td>234.239586</td>\n",
       "    </tr>\n",
       "    <tr>\n",
       "      <th>22</th>\n",
       "      <td>337.9800</td>\n",
       "      <td>234.239586</td>\n",
       "    </tr>\n",
       "    <tr>\n",
       "      <th>23</th>\n",
       "      <td>863.1280</td>\n",
       "      <td>222.980857</td>\n",
       "    </tr>\n",
       "    <tr>\n",
       "      <th>24</th>\n",
       "      <td>1.8720</td>\n",
       "      <td>194.834034</td>\n",
       "    </tr>\n",
       "    <tr>\n",
       "      <th>25</th>\n",
       "      <td>51.9680</td>\n",
       "      <td>222.980857</td>\n",
       "    </tr>\n",
       "    <tr>\n",
       "      <th>26</th>\n",
       "      <td>80.3000</td>\n",
       "      <td>234.239586</td>\n",
       "    </tr>\n",
       "    <tr>\n",
       "      <th>27</th>\n",
       "      <td>49.5360</td>\n",
       "      <td>222.980857</td>\n",
       "    </tr>\n",
       "    <tr>\n",
       "      <th>28</th>\n",
       "      <td>98.1600</td>\n",
       "      <td>234.239586</td>\n",
       "    </tr>\n",
       "    <tr>\n",
       "      <th>29</th>\n",
       "      <td>81.9800</td>\n",
       "      <td>234.239586</td>\n",
       "    </tr>\n",
       "  </tbody>\n",
       "</table>\n",
       "</div>"
      ],
      "text/plain": [
       "       Actual   Predicted\n",
       "0     23.3600  234.239586\n",
       "1     22.6600  234.239586\n",
       "2     35.2080  222.980857\n",
       "3    283.9200  222.980857\n",
       "4     19.8240  222.980857\n",
       "5     39.9200  222.980857\n",
       "6     68.4800  222.980857\n",
       "7   1591.0200  234.239586\n",
       "8    156.3728  216.225619\n",
       "9   3499.9300  234.239586\n",
       "10  4899.9300  234.239586\n",
       "11   242.4800  234.239586\n",
       "12    79.9600  234.239586\n",
       "13    50.9970  194.834034\n",
       "14   107.5300  234.239586\n",
       "15    22.6080  200.463399\n",
       "16   120.1500  234.239586\n",
       "17   121.6800  222.980857\n",
       "18    93.0200  234.239586\n",
       "19    55.3280  222.980857\n",
       "20   333.0560  222.980857\n",
       "21     4.9800  234.239586\n",
       "22   337.9800  234.239586\n",
       "23   863.1280  222.980857\n",
       "24     1.8720  194.834034\n",
       "25    51.9680  222.980857\n",
       "26    80.3000  234.239586\n",
       "27    49.5360  222.980857\n",
       "28    98.1600  234.239586\n",
       "29    81.9800  234.239586"
      ]
     },
     "execution_count": 31,
     "metadata": {},
     "output_type": "execute_result"
    }
   ],
   "source": [
    "# Create a dataframe comparing the actual and predicted values of y.\n",
    "\n",
    "data = pd.DataFrame({'Actual': y_test.flatten(), 'Predicted': y_predicted.flatten()})\n",
    "data.head(30)"
   ]
  },
  {
   "cell_type": "markdown",
   "id": "657c259c",
   "metadata": {},
   "source": [
    "There is a huge difference between the actual values and the predicted values which means the model is not fit to make predictions."
   ]
  },
  {
   "cell_type": "markdown",
   "id": "2c00fe85",
   "metadata": {},
   "source": [
    "# compare how the regression fits the training test"
   ]
  },
  {
   "cell_type": "code",
   "execution_count": 32,
   "id": "f59a1667",
   "metadata": {},
   "outputs": [],
   "source": [
    "# Predict.\n",
    "\n",
    "y_predicted_train = regression.predict(X_train) # This is predicting X_train!"
   ]
  },
  {
   "cell_type": "code",
   "execution_count": 33,
   "id": "f70a12f3",
   "metadata": {},
   "outputs": [],
   "source": [
    "rmse = mean_squared_error(y_train, y_predicted_train)\n",
    "r2 = r2_score(y_train, y_predicted_train)"
   ]
  },
  {
   "cell_type": "code",
   "execution_count": 34,
   "id": "3f70a0a9",
   "metadata": {},
   "outputs": [
    {
     "name": "stdout",
     "output_type": "stream",
     "text": [
      "Slope: [[-56.29364623]]\n",
      "Mean squared error:  373328.996014331\n",
      "R2 score:  0.0003607628341824043\n"
     ]
    }
   ],
   "source": [
    "print('Slope:' ,regression.coef_)\n",
    "print('Mean squared error: ', rmse)\n",
    "print('R2 score: ', r2)"
   ]
  },
  {
   "cell_type": "markdown",
   "id": "65de9af5",
   "metadata": {},
   "source": [
    "Analysis\n",
    "\n",
    "there is a negative slope which indicates a negative relationship between the two variables tested. the increase in discount causes decrease in sales.\n",
    "The MSE is large which means the regression may not be the best model to represent data and predict the influence of discount on sales.\n",
    "The R2 is 0 which means the model is not fit"
   ]
  },
  {
   "cell_type": "code",
   "execution_count": 35,
   "id": "eb2e6568",
   "metadata": {},
   "outputs": [
    {
     "data": {
      "image/png": "[encoded data removed]",
      "text/plain": [
       "<Figure size 640x480 with 1 Axes>"
      ]
     },
     "metadata": {},
     "output_type": "display_data"
    }
   ],
   "source": [
    "# Visualizing the training set results.\n",
    "\n",
    "plot_test = plt\n",
    "plot_test.scatter(X_train, y_train, color='green', s = 15)\n",
    "plot_test.plot(X_train, y_predicted_train, color='red', linewidth =3)\n",
    "plot_test.title('Discount vs Sales (Train set)')\n",
    "plot_test.xlabel('Discount')\n",
    "plot_test.ylabel('Sales')\n",
    "plot_test.show()"
   ]
  },
  {
   "cell_type": "code",
   "execution_count": null,
   "id": "fe1da168",
   "metadata": {},
   "outputs": [],
   "source": []
  }
 ],
 "metadata": {
  "kernelspec": {
   "display_name": "Python 3 (ipykernel)",
   "language": "python",
   "name": "python3"
  },
  "language_info": {
   "codemirror_mode": {
    "name": "ipython",
    "version": 3
   },
   "file_extension": ".py",
   "mimetype": "text/x-python",
   "name": "python",
   "nbconvert_exporter": "python",
   "pygments_lexer": "ipython3",
   "version": "3.11.5"
  }
 },
 "nbformat": 4,
 "nbformat_minor": 5
}
